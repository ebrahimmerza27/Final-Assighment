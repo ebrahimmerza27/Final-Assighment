{
 "cells": [
  {
   "cell_type": "markdown",
   "id": "3cc0a028-bec5-4887-9623-bad318cbbd4c",
   "metadata": {
    "tags": []
   },
   "source": [
    "# Data Science Tools and Ecosystems "
   ]
  },
  {
   "cell_type": "markdown",
   "id": "c5ef3e7b-dfc2-4140-bc4d-d2259993e73a",
   "metadata": {},
   "source": [
    "In this notebook, Data Science Tools and Ecosystem are summarized."
   ]
  },
  {
   "cell_type": "markdown",
   "id": "702d8f28-49d9-41b5-bfaf-c7437f79cdb7",
   "metadata": {
    "tags": []
   },
   "source": [
    "Some of the popular languages that Data Scientists use are:\n",
    "\n",
    "1. Python\n",
    "2. R\n",
    "3. SQL"
   ]
  },
  {
   "cell_type": "markdown",
   "id": "54d6fef5-d42e-4785-badc-c356b0096c4c",
   "metadata": {},
   "source": [
    "Some of the commonly used libraries used by Data Scientists include:\n",
    "1. matplotlib.\n",
    "2. seaborn.\n",
    "3. scikitlearn."
   ]
  },
  {
   "cell_type": "markdown",
   "id": "e1865f7f-e447-49d6-908d-5aaaa590d5ba",
   "metadata": {},
   "source": [
    "|Data Science Tools|\n",
    "|------------------|\n",
    "|Jupyter note book |\n",
    "|VS code           |\n",
    "|R studio          |"
   ]
  },
  {
   "cell_type": "markdown",
   "id": "83f4f3e0-fd5c-446b-82ff-6c7525b3254d",
   "metadata": {},
   "source": [
    "### Below are a few examples of evaluating arithmetic expressions in Python"
   ]
  },
  {
   "cell_type": "code",
   "execution_count": 5,
   "id": "db648829-b5f0-49c1-8c5f-799e0e999c23",
   "metadata": {
    "tags": []
   },
   "outputs": [
    {
     "data": {
      "text/plain": [
       "17"
      ]
     },
     "execution_count": 5,
     "metadata": {},
     "output_type": "execute_result"
    }
   ],
   "source": [
    "####This a simple arithmetic expression to mutiply then add integers\n",
    "(3*4)+5"
   ]
  },
  {
   "cell_type": "code",
   "execution_count": 8,
   "id": "7b0a0e78-42b0-427e-91b6-3af0f4010602",
   "metadata": {
    "tags": []
   },
   "outputs": [
    {
     "name": "stdout",
     "output_type": "stream",
     "text": [
      "3.3333333333333335\n"
     ]
    }
   ],
   "source": [
    "###This will convert 200 minutes to hours by diving by 60\n",
    "minutes = 200\n",
    "hours = 200/60\n",
    "print(hours)"
   ]
  },
  {
   "cell_type": "markdown",
   "id": "7b10a680-1a5f-489e-a857-9b3f1c0fe0d5",
   "metadata": {},
   "source": [
    "**Objectives:**\n",
    "\n",
    "- List popular languages for Data Science.\n",
    "- Understand the importance of data visualization tools.\n",
    "- Introduce common libraries and frameworks in the data science ecosystem.\n"
   ]
  },
  {
   "cell_type": "markdown",
   "id": "e50e5e35-78f3-4992-96ac-36112e8a80d5",
   "metadata": {},
   "source": [
    "## Author\n",
    "Ebrahim Hamada Merza \n"
   ]
  }
 ],
 "metadata": {
  "kernelspec": {
   "display_name": "Python",
   "language": "python",
   "name": "conda-env-python-py"
  },
  "language_info": {
   "codemirror_mode": {
    "name": "ipython",
    "version": 3
   },
   "file_extension": ".py",
   "mimetype": "text/x-python",
   "name": "python",
   "nbconvert_exporter": "python",
   "pygments_lexer": "ipython3",
   "version": "3.7.12"
  }
 },
 "nbformat": 4,
 "nbformat_minor": 5
}
